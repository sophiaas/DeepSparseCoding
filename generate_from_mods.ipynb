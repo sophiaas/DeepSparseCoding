{
 "cells": [
  {
   "cell_type": "code",
   "execution_count": 1,
   "metadata": {},
   "outputs": [
    {
     "data": {
      "application/javascript": [
       "IPython.OutputArea.prototype._should_scroll = function(lines) {\n",
       "    return false;\n",
       "}"
      ],
      "text/plain": [
       "<IPython.core.display.Javascript object>"
      ]
     },
     "metadata": {},
     "output_type": "display_data"
    }
   ],
   "source": [
    "%%javascript\n",
    "IPython.OutputArea.prototype._should_scroll = function(lines) {\n",
    "    return false;\n",
    "}"
   ]
  },
  {
   "cell_type": "code",
   "execution_count": 2,
   "metadata": {},
   "outputs": [],
   "source": [
    "import matplotlib.pyplot as plt\n",
    "%matplotlib inline\n",
    "import seaborn as sns\n",
    "import numpy as np    \n",
    "import pickle\n",
    "sns.set_style('white')"
   ]
  },
  {
   "cell_type": "markdown",
   "metadata": {},
   "source": [
    "# Generating patches from models"
   ]
  },
  {
   "cell_type": "code",
   "execution_count": 3,
   "metadata": {},
   "outputs": [
    {
     "ename": "SyntaxError",
     "evalue": "invalid syntax (<ipython-input-3-d1dc46a0c773>, line 19)",
     "output_type": "error",
     "traceback": [
      "\u001b[0;36m  File \u001b[0;32m\"<ipython-input-3-d1dc46a0c773>\"\u001b[0;36m, line \u001b[0;32m19\u001b[0m\n\u001b[0;31m    return artificial_coeffs, artificial_images\u001b[0m\n\u001b[0m         ^\u001b[0m\n\u001b[0;31mSyntaxError\u001b[0m\u001b[0;31m:\u001b[0m invalid syntax\n"
     ]
    }
   ],
   "source": [
    "def shuffle_coeffs(params):\n",
    "    if params['model_type'] == 'lca':\n",
    "        name = params['model_type']+'_'+str(params['n_neurons'])+'_'+params['cost']+'_'+str(params['lam'])+'_'+params['version']\n",
    "    elif params['model_type'] == 'ica': \n",
    "        name = params['model_type'] + '_' + params['version']\n",
    "    else: \n",
    "        name = params['model_type']\n",
    "    with np.load(params[\"out_dir\"]+name+'_coeffs.npz') as d:\n",
    "        coeffs = d[\"arr_0\"]\n",
    "    with np.load(params[\"out_dir\"]+name+'_weights.npz') as d:\n",
    "        weights = d[\"arr_0\"]\n",
    "    artificial_coeffs = np.zeros(coeffs.shape)\n",
    "    for idx, row in enumerate(coeffs):\n",
    "        artificial_coeffs[idx, :] = np.random.permutation(row)\n",
    "    artificial_images = np.matmul(artificial_coeffs, weights.T)  \n",
    "    fig, axes = plt.subplots(nrows=5, ncols=5, figsize=(200, 200))\n",
    "    for i, ax in enumerate(axes.flatten()):\n",
    "        ax.imshow(np.reshape(artificial_images[i], )\n",
    "    return artificial_coeffs, artificial_images"
   ]
  },
  {
   "cell_type": "code",
   "execution_count": 595,
   "metadata": {},
   "outputs": [],
   "source": [
    "def generate_coeffs(params):\n",
    "    if params[\"mod_name\"] == 'lca':\n",
    "        mod_name = params[\"mod_name\"] + \"_\" + str(params[\"n_neurons\"]) + \"_\" + params[\"cost\"] + \"_\" + str(params[\"lam\"])\n",
    "    else:\n",
    "        mod_name = params[\"mod_name\"]\n",
    "    with np.load(params[\"out_dir\"] + mod_name + \"_weights.npz\") as d:\n",
    "        weights = d['arr_0']\n",
    "    scale = 2/params[\"lam\"] if params[\"mod_name\"] == \"lca\" else 1\n",
    "    artificial_coeffs = np.random.laplace(scale=2/params[\"lam\"], size=(params[\"n_samples\"], weights.shape[1]))\n",
    "    artificial_images = np.matmul(artificial_coeffs, weights.T)  \n",
    "    return artificial_coeffs, artificial_images"
   ]
  },
  {
   "cell_type": "code",
   "execution_count": 513,
   "metadata": {
    "collapsed": true
   },
   "outputs": [],
   "source": [
    "def generate_norm_coeffs(coeffs, weights):\n",
    "    artificial_coeffs = np.random.normal(scale=1, size=coeffs.shape)\n",
    "    artificial_images = np.matmul(artificial_coeffs, weights.T)  \n",
    "    return artificial_coeffs, artificial_images"
   ]
  },
  {
   "cell_type": "code",
   "execution_count": 15,
   "metadata": {},
   "outputs": [],
   "source": [
    "params = {\n",
    "    \"model_type\": 'ica',\n",
    "    \"n_neurons\": 256,\n",
    "    \"cost\": 'l1',\n",
    "    \"lam\": 0.5,\n",
    "    \"version\": 'v1.0',\n",
    "    \"out_dir\": \"/media/tbell/sanborn/rd_analysis/outputs/ica/coeffs/\",\n",
    "    \"n_samples\": 100\n",
    "}"
   ]
  },
  {
   "cell_type": "code",
   "execution_count": 16,
   "metadata": {},
   "outputs": [],
   "source": [
    "artificial_ica_coeffs, artificial_ica_images = shuffle_coeffs(params)"
   ]
  },
  {
   "cell_type": "code",
   "execution_count": 17,
   "metadata": {},
   "outputs": [
    {
     "data": {
      "text/plain": [
       "<matplotlib.image.AxesImage at 0x7fc3503fe748>"
      ]
     },
     "execution_count": 17,
     "metadata": {},
     "output_type": "execute_result"
    },
    {
     "data": {
      "image/png": "[encoded data removed]",
      "text/plain": [
       "<matplotlib.figure.Figure at 0x7fc350455710>"
      ]
     },
     "metadata": {},
     "output_type": "display_data"
    }
   ],
   "source": [
    "plt.imshow(np.reshape(artificial_ica_images[0], (16,16)), cmap=\"Greys_r\")"
   ]
  },
  {
   "cell_type": "code",
   "execution_count": 53,
   "metadata": {},
   "outputs": [],
   "source": [
    "with np.load('/media/tbell/sanborn/rd_outputs_v11/coeffs/ica_weights.npz') as d:\n",
    "    ica_weights = d['arr_0']\n",
    "with np.load('/media/tbell/sanborn/rd_outputs_v11/coeffs/ica_coeffs.npz') as d:\n",
    "    ica_coeffs = d['arr_0']"
   ]
  },
  {
   "cell_type": "code",
   "execution_count": null,
   "metadata": {},
   "outputs": [],
   "source": []
  },
  {
   "cell_type": "code",
   "execution_count": 48,
   "metadata": {},
   "outputs": [
    {
     "data": {
      "text/plain": [
       "<matplotlib.image.AxesImage at 0x7f09dffab080>"
      ]
     },
     "execution_count": 48,
     "metadata": {},
     "output_type": "execute_result"
    },
    {
     "data": {
      "image/png": "[encoded data removed]",
      "text/plain": [
       "<matplotlib.figure.Figure at 0x7f09e0a3e860>"
      ]
     },
     "metadata": {},
     "output_type": "display_data"
    }
   ],
   "source": [
    "sns.set_style('white')\n",
    "plt.imshow(np.reshape(art_weights[2], (16,16)), cmap=\"Greys_r\")"
   ]
  },
  {
   "cell_type": "code",
   "execution_count": 42,
   "metadata": {},
   "outputs": [],
   "source": [
    "with np.load('/media/tbell/sanborn/rd_outputs_v11/coeffs/lca_512_l0_0.3_weights.npz') as d:\n",
    "    weights = d['arr_0']"
   ]
  },
  {
   "cell_type": "code",
   "execution_count": 43,
   "metadata": {},
   "outputs": [],
   "source": [
    "with np.load('/media/tbell/sanborn/rd_outputs_v11/coeffs/lca_512_l0_0.3_coeffs.npz') as d:\n",
    "    coeffs = d['arr_0']"
   ]
  },
  {
   "cell_type": "code",
   "execution_count": 540,
   "metadata": {},
   "outputs": [],
   "source": [
    "artificial_coeffs, artificial_images = generate_coeffs(100000, weights, .3)"
   ]
  },
  {
   "cell_type": "code",
   "execution_count": 562,
   "metadata": {},
   "outputs": [],
   "source": [
    "artificial_coeffs_05, artificial_images_05 = generate_coeffs(params)"
   ]
  },
  {
   "cell_type": "code",
   "execution_count": 572,
   "metadata": {},
   "outputs": [],
   "source": [
    "artificial_coeffs_256_05, artificial_images_256_05 = generate_coeffs(params)"
   ]
  },
  {
   "cell_type": "code",
   "execution_count": 596,
   "metadata": {},
   "outputs": [],
   "source": [
    "artificial_coeffs_ica, artificial_images_ica = generate_coeffs(params)"
   ]
  },
  {
   "cell_type": "code",
   "execution_count": 609,
   "metadata": {},
   "outputs": [
    {
     "data": {
      "text/plain": [
       "<matplotlib.image.AxesImage at 0x7f129dfb70b8>"
      ]
     },
     "execution_count": 609,
     "metadata": {},
     "output_type": "execute_result"
    },
    {
     "data": {
      "image/png": "[encoded data removed]",
      "text/plain": [
       "<matplotlib.figure.Figure at 0x7f129e252be0>"
      ]
     },
     "metadata": {},
     "output_type": "display_data"
    }
   ],
   "source": [
    "sns.set_style('white')\n",
    "plt.imshow(np.reshape(artificial_images_ica[10], (16,16)), cmap=\"Greys_r\")"
   ]
  },
  {
   "cell_type": "code",
   "execution_count": 605,
   "metadata": {},
   "outputs": [
    {
     "data": {
      "text/plain": [
       "<matplotlib.image.AxesImage at 0x7f129fcb62b0>"
      ]
     },
     "execution_count": 605,
     "metadata": {},
     "output_type": "execute_result"
    },
    {
     "data": {
      "image/png": "[encoded data removed]",
      "text/plain": [
       "<matplotlib.figure.Figure at 0x7f129b0ffe80>"
      ]
     },
     "metadata": {},
     "output_type": "display_data"
    }
   ],
   "source": [
    "plt.imshow(np.reshape(artificial_images[15], (16,16)), cmap=\"Greys_r\")"
   ]
  },
  {
   "cell_type": "code",
   "execution_count": 607,
   "metadata": {},
   "outputs": [
    {
     "data": {
      "text/plain": [
       "<matplotlib.image.AxesImage at 0x7f129e97dc18>"
      ]
     },
     "execution_count": 607,
     "metadata": {},
     "output_type": "execute_result"
    },
    {
     "data": {
      "image/png": "[encoded data removed]",
      "text/plain": [
       "<matplotlib.figure.Figure at 0x7f129ebc31d0>"
      ]
     },
     "metadata": {},
     "output_type": "display_data"
    }
   ],
   "source": [
    "plt.imshow(np.reshape(artificial_images_05[90], (16,16)), cmap=\"Greys_r\")"
   ]
  },
  {
   "cell_type": "code",
   "execution_count": 610,
   "metadata": {},
   "outputs": [
    {
     "data": {
      "text/plain": [
       "<matplotlib.image.AxesImage at 0x7f129db1a7f0>"
      ]
     },
     "execution_count": 610,
     "metadata": {},
     "output_type": "execute_result"
    },
    {
     "data": {
      "image/png": "[encoded data removed]",
      "text/plain": [
       "<matplotlib.figure.Figure at 0x7f129f7ec0b8>"
      ]
     },
     "metadata": {},
     "output_type": "display_data"
    }
   ],
   "source": [
    "plt.imshow(np.reshape(artificial_images_256_05[20], (16,16)), cmap=\"Greys_r\")"
   ]
  },
  {
   "cell_type": "code",
   "execution_count": 542,
   "metadata": {},
   "outputs": [
    {
     "data": {
      "image/png": "[encoded data removed]",
      "text/plain": [
       "<matplotlib.figure.Figure at 0x7f129f1ac208>"
      ]
     },
     "metadata": {},
     "output_type": "display_data"
    }
   ],
   "source": [
    "plt.hist(artificial_coeffs);"
   ]
  },
  {
   "cell_type": "code",
   "execution_count": null,
   "metadata": {},
   "outputs": [],
   "source": [
    "# Generating patches from models\n",
    "\n",
    "params = {\n",
    "    \"mod_name\": 'ica',\n",
    "    \"n_neurons\": 256,\n",
    "    \"cost\": 'l1',\n",
    "    \"lam\": 0.5,\n",
    "    \"version\": 'v1.0',\n",
    "    \"out_dir\": \"/media/tbell/sanborn/rd_outputs_v11/coeffs/\",\n",
    "    \"n_samples\": 100\n",
    "}\n",
    "\n",
    "params[\"weight_name\"] = \"phi\" if params[\"mod_name\"] == 'lca' else \"a\"\n",
    "    \n",
    "if params[\"mod_name\"] == 'lca':\n",
    "    mod_name = params[\"mod_name\"] + \"_\" + str(params[\"n_neurons\"]) + \"_\" + params[\"cost\"] + \"_\" + str(params[\"lam\"]) + \"_\" + params[\"version\"]\n",
    "else:\n",
    "    mod_name = params[\"mod_name\"]\n",
    "\n",
    "def shuffle_coeffs(coeffs, weights):\n",
    "    artificial_coeffs = np.zeros(coeffs.shape)\n",
    "    for idx, row in enumerate(coeffs):\n",
    "        artificial_coeffs[idx, :] = np.random.permutation(row)\n",
    "    artificial_images = np.matmul(artificial_coeffs, weights.T)  \n",
    "    return artificial_coeffs, artificial_images\n",
    "\n",
    "def generate_coeffs(params):\n",
    "    if params[\"mod_name\"] == 'lca':\n",
    "        mod_name = params[\"mod_name\"] + \"_\" + str(params[\"n_neurons\"]) + \"_\" + params[\"cost\"] + \"_\" + str(params[\"lam\"])\n",
    "    else:\n",
    "        mod_name = params[\"mod_name\"]\n",
    "    with np.load(params[\"out_dir\"] + mod_name + \"_weights.npz\") as d:\n",
    "        weights = d['arr_0']\n",
    "    scale = 2/params[\"lam\"] if params[\"mod_name\"] == \"lca\" else 1\n",
    "    artificial_coeffs = np.random.laplace(scale=2/params[\"lam\"], size=(params[\"n_samples\"], weights.shape[1]))\n",
    "    artificial_images = np.matmul(artificial_coeffs, weights.T)  \n",
    "    return artificial_coeffs, artificial_images\n",
    "\n",
    "def generate_norm_coeffs(coeffs, weights):\n",
    "    artificial_coeffs = np.random.normal(scale=1, size=coeffs.shape)\n",
    "    artificial_images = np.matmul(artificial_coeffs, weights.T)  \n",
    "    return artificial_coeffs, artificial_images\n",
    "\n",
    "art_coeffs, art_weights = shuffle_coeffs(coeffs, weights)\n",
    "\n",
    "with np.load('/media/tbell/sanborn/rd_outputs_v11/coeffs/ica_weights.npz') as d:\n",
    "    ica_weights = d['arr_0']\n",
    "with np.load('/media/tbell/sanborn/rd_outputs_v11/coeffs/ica_coeffs.npz') as d:\n",
    "    ica_coeffs = d['arr_0']\n",
    "\n",
    "\n",
    "\n",
    "sns.set_style('white')\n",
    "plt.imshow(np.reshape(art_weights[2], (16,16)), cmap=\"Greys_r\")\n",
    "\n",
    "with np.load('/media/tbell/sanborn/rd_outputs_v11/coeffs/lca_512_l0_0.3_weights.npz') as d:\n",
    "    weights = d['arr_0']\n",
    "\n",
    "with np.load('/media/tbell/sanborn/rd_outputs_v11/coeffs/lca_512_l0_0.3_coeffs.npz') as d:\n",
    "    coeffs = d['arr_0']\n",
    "\n",
    "artificial_coeffs, artificial_images = generate_coeffs(100000, weights, .3)\n",
    "\n",
    "artificial_coeffs_05, artificial_images_05 = generate_coeffs(params)\n",
    "\n",
    "artificial_coeffs_256_05, artificial_images_256_05 = generate_coeffs(params)\n",
    "\n",
    "artificial_coeffs_ica, artificial_images_ica = generate_coeffs(params)\n",
    "\n",
    "sns.set_style('white')\n",
    "plt.imshow(np.reshape(artificial_images_ica[10], (16,16)), cmap=\"Greys_r\")\n",
    "\n",
    "plt.imshow(np.reshape(artificial_images[15], (16,16)), cmap=\"Greys_r\")\n",
    "\n",
    "plt.imshow(np.reshape(artificial_images_05[90], (16,16)), cmap=\"Greys_r\")\n",
    "\n",
    "plt.imshow(np.reshape(artificial_images_256_05[20], (16,16)), cmap=\"Greys_r\")\n",
    "\n",
    "plt.hist(artificial_coeffs);"
   ]
  }
 ],
 "metadata": {
  "kernelspec": {
   "display_name": "Python 3",
   "language": "python",
   "name": "python3"
  },
  "language_info": {
   "codemirror_mode": {
    "name": "ipython",
    "version": 3
   },
   "file_extension": ".py",
   "mimetype": "text/x-python",
   "name": "python",
   "nbconvert_exporter": "python",
   "pygments_lexer": "ipython3",
   "version": "3.4.3"
  }
 },
 "nbformat": 4,
 "nbformat_minor": 2
}
